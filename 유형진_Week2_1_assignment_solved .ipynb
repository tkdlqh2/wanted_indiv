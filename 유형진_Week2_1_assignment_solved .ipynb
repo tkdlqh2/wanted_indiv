{
  "cells": [
    {
      "cell_type": "markdown",
      "metadata": {
        "id": "Hg3yVV-zjev_"
      },
      "source": [
        "# Week2_1 Assignment\n",
        "\n",
        "# [BASIC](#Basic)\n",
        "- BERT 모델의 hidden state에서 **특정 단어의 embedding을 여러 방식으로 추출 및 생성**할 수 있다.\n",
        "\n",
        "# [CHALLENGE](#Challenge)\n",
        "- **cosine similarity 함수를 구현**할 수 있다. \n",
        "- **단어들의 유사도**를 cosine similarity로 비교할 수 있다. \n",
        "\n",
        "# [ADVANCED](#Advanced)\n",
        "- 문장 embedding을 구해 **문장 간 유사도**를 구할 수 있다.\n",
        "\n",
        "### Reference\n",
        "- [BERT word embedding & sentence embedding tutorial 영문 블로그](https://mccormickml.com/2019/05/14/BERT-word-embeddings-tutorial/#33-creating-word-and-sentence-vectors-from-hidden-states)"
      ]
    },
    {
      "cell_type": "code",
      "execution_count": 86,
      "metadata": {
        "id": "audBCE5fjSMC"
      },
      "outputs": [],
      "source": [
        "import os\n",
        "import sys\n",
        "import pandas as pd\n",
        "import numpy as np \n",
        "import torch\n",
        "import random"
      ]
    },
    {
      "cell_type": "markdown",
      "metadata": {
        "id": "T03wL1uH1HHb"
      },
      "source": [
        "## Basic"
      ]
    },
    {
      "cell_type": "markdown",
      "metadata": {
        "id": "cvJncy-fjkUV"
      },
      "source": [
        "### BERT 모델과 토크나이저 로드   \n",
        "- 두 사람의 대화에서 (단어 및 문장의) embedding을 생성하고자 한다. 아래 대화를 BERT 모델에 입력해 출력값 중 \"hidden states\"값을 가져오자.\n",
        "- `Hidden States`는 3차원 텐서를 가지고 있는 list 타입이다. List에는 BERT 모델의 각 layer마다의 hidden state 3차원 텐서를 갖고 있으며 각 텐서는 (batch_size, sequence_length, hidden_size) shape을 가진다. BERT-base 모델은 12 layer를 갖고 있고 이와 별도로 Embedding Layer 1개를 더 갖고 있기 때문에 `len(hidden states)`는 13개가 된다. \n",
        "    - batch_size: 학습 시 설정한 배치 사이즈. 또는 BERT 모델에 입력된 문장의 개수\n",
        "    - sequence_length: 문장의 token의 개수. \n",
        "    - hidden size: token의 embedding size \n",
        "- Reference\n",
        "    - [BertTokenizer.tokenize() 함수의 매개변수 설명](https://huggingface.co/transformers/v3.0.2/main_classes/tokenizer.html#transformers.PreTrainedTokenizer.__call__)\n",
        "    - [BERTModel.forward() 함수의 매개변수 및 리턴 값 설명](https://huggingface.co/docs/transformers/model_doc/bert#transformers.BertModel.forward)"
      ]
    },
    {
      "cell_type": "code",
      "execution_count": 87,
      "metadata": {
        "id": "bcmmeNkujk0x",
        "colab": {
          "base_uri": "https://localhost:8080/"
        },
        "outputId": "3d3771e7-a028-47b7-c89b-3501940201c6"
      },
      "outputs": [
        {
          "output_type": "stream",
          "name": "stdout",
          "text": [
            "Requirement already satisfied: transformers in /usr/local/lib/python3.7/dist-packages (4.16.2)\n",
            "Requirement already satisfied: tokenizers!=0.11.3,>=0.10.1 in /usr/local/lib/python3.7/dist-packages (from transformers) (0.11.5)\n",
            "Requirement already satisfied: pyyaml>=5.1 in /usr/local/lib/python3.7/dist-packages (from transformers) (6.0)\n",
            "Requirement already satisfied: numpy>=1.17 in /usr/local/lib/python3.7/dist-packages (from transformers) (1.21.5)\n",
            "Requirement already satisfied: tqdm>=4.27 in /usr/local/lib/python3.7/dist-packages (from transformers) (4.62.3)\n",
            "Requirement already satisfied: filelock in /usr/local/lib/python3.7/dist-packages (from transformers) (3.6.0)\n",
            "Requirement already satisfied: requests in /usr/local/lib/python3.7/dist-packages (from transformers) (2.23.0)\n",
            "Requirement already satisfied: huggingface-hub<1.0,>=0.1.0 in /usr/local/lib/python3.7/dist-packages (from transformers) (0.4.0)\n",
            "Requirement already satisfied: importlib-metadata in /usr/local/lib/python3.7/dist-packages (from transformers) (4.11.1)\n",
            "Requirement already satisfied: regex!=2019.12.17 in /usr/local/lib/python3.7/dist-packages (from transformers) (2019.12.20)\n",
            "Requirement already satisfied: sacremoses in /usr/local/lib/python3.7/dist-packages (from transformers) (0.0.47)\n",
            "Requirement already satisfied: packaging>=20.0 in /usr/local/lib/python3.7/dist-packages (from transformers) (21.3)\n",
            "Requirement already satisfied: typing-extensions>=3.7.4.3 in /usr/local/lib/python3.7/dist-packages (from huggingface-hub<1.0,>=0.1.0->transformers) (3.10.0.2)\n",
            "Requirement already satisfied: pyparsing!=3.0.5,>=2.0.2 in /usr/local/lib/python3.7/dist-packages (from packaging>=20.0->transformers) (3.0.7)\n",
            "Requirement already satisfied: zipp>=0.5 in /usr/local/lib/python3.7/dist-packages (from importlib-metadata->transformers) (3.7.0)\n",
            "Requirement already satisfied: urllib3!=1.25.0,!=1.25.1,<1.26,>=1.21.1 in /usr/local/lib/python3.7/dist-packages (from requests->transformers) (1.24.3)\n",
            "Requirement already satisfied: certifi>=2017.4.17 in /usr/local/lib/python3.7/dist-packages (from requests->transformers) (2021.10.8)\n",
            "Requirement already satisfied: chardet<4,>=3.0.2 in /usr/local/lib/python3.7/dist-packages (from requests->transformers) (3.0.4)\n",
            "Requirement already satisfied: idna<3,>=2.5 in /usr/local/lib/python3.7/dist-packages (from requests->transformers) (2.10)\n",
            "Requirement already satisfied: six in /usr/local/lib/python3.7/dist-packages (from sacremoses->transformers) (1.15.0)\n",
            "Requirement already satisfied: click in /usr/local/lib/python3.7/dist-packages (from sacremoses->transformers) (7.1.2)\n",
            "Requirement already satisfied: joblib in /usr/local/lib/python3.7/dist-packages (from sacremoses->transformers) (1.1.0)\n"
          ]
        }
      ],
      "source": [
        "!pip install transformers"
      ]
    },
    {
      "cell_type": "code",
      "execution_count": 88,
      "metadata": {
        "id": "GZqEFuRHjgBj"
      },
      "outputs": [],
      "source": [
        "from transformers import BertTokenizer, BertModel"
      ]
    },
    {
      "cell_type": "code",
      "execution_count": 89,
      "metadata": {
        "id": "NXyCD5dnjo37",
        "colab": {
          "base_uri": "https://localhost:8080/"
        },
        "outputId": "4dfa4dd8-7c84-4226-e151-5458d2dd34bc"
      },
      "outputs": [
        {
          "output_type": "stream",
          "name": "stderr",
          "text": [
            "Some weights of the model checkpoint at bert-base-cased were not used when initializing BertModel: ['cls.predictions.transform.dense.bias', 'cls.predictions.decoder.weight', 'cls.seq_relationship.bias', 'cls.seq_relationship.weight', 'cls.predictions.transform.LayerNorm.bias', 'cls.predictions.bias', 'cls.predictions.transform.dense.weight', 'cls.predictions.transform.LayerNorm.weight']\n",
            "- This IS expected if you are initializing BertModel from the checkpoint of a model trained on another task or with another architecture (e.g. initializing a BertForSequenceClassification model from a BertForPreTraining model).\n",
            "- This IS NOT expected if you are initializing BertModel from the checkpoint of a model that you expect to be exactly identical (initializing a BertForSequenceClassification model from a BertForSequenceClassification model).\n"
          ]
        }
      ],
      "source": [
        "tokenizer_bert = BertTokenizer.from_pretrained(\"bert-base-cased\")\n",
        "model_bert = BertModel.from_pretrained(\"bert-base-cased\")"
      ]
    },
    {
      "cell_type": "code",
      "execution_count": 90,
      "metadata": {
        "id": "Q-UbcLH4juKA",
        "colab": {
          "base_uri": "https://localhost:8080/"
        },
        "outputId": "954916a8-4011-4357-a435-46be240df8cf"
      },
      "outputs": [
        {
          "output_type": "stream",
          "name": "stdout",
          "text": [
            "Normal Person asked: what do you do when you have free time?\n",
            "Nerd answers: I code. code frees my minds, body and soul.\n",
            "Normal Person asked: (what a nerd...) coding?\n",
            "Nerd answers: Yes. coding is the best thing to do in the free time.\n"
          ]
        }
      ],
      "source": [
        "normal_person = [\"what do you do when you have free time?\"]\n",
        "nerd = [\"I code. code frees my minds, body and soul.\"]\n",
        "normal_person.append(\"(what a nerd...) coding?\")\n",
        "nerd.append(\"Yes. coding is the best thing to do in the free time.\")\n",
        "\n",
        "for i in range(len(normal_person)):\n",
        "    print(f\"Normal Person asked: {normal_person[i]}\")\n",
        "    print(f\"Nerd answers: {nerd[i]}\")"
      ]
    },
    {
      "cell_type": "code",
      "execution_count": 91,
      "metadata": {
        "id": "KQtKFM-hjvVl",
        "colab": {
          "base_uri": "https://localhost:8080/"
        },
        "outputId": "2d2d09d8-4508-4ee3-f75a-054defaae977"
      },
      "outputs": [
        {
          "output_type": "stream",
          "name": "stdout",
          "text": [
            "torch.Size([2, 28])\n"
          ]
        }
      ],
      "source": [
        "# 매개변수 설명\n",
        "# truncation <- max_len 넘어가지 않도록 자르기\n",
        "# padding <- max(seq_len, max_len) zero padding\n",
        "# return_tensors <- return 2d tensor \n",
        "\n",
        "inputs = tokenizer_bert(\n",
        "    text = normal_person,\n",
        "    text_pair = nerd,\n",
        "    truncation = True,\n",
        "    padding = \"longest\", \n",
        "    return_tensors='pt'\n",
        "    )\n",
        "\n",
        "print(inputs['input_ids'].shape)"
      ]
    },
    {
      "cell_type": "code",
      "execution_count": 92,
      "metadata": {
        "id": "S5TrsQ_Wj09O",
        "colab": {
          "base_uri": "https://localhost:8080/"
        },
        "outputId": "75e0d8f3-ab8f-43ec-c9a3-45d01d43edda"
      },
      "outputs": [
        {
          "output_type": "execute_result",
          "data": {
            "text/plain": [
              "BertModel(\n",
              "  (embeddings): BertEmbeddings(\n",
              "    (word_embeddings): Embedding(28996, 768, padding_idx=0)\n",
              "    (position_embeddings): Embedding(512, 768)\n",
              "    (token_type_embeddings): Embedding(2, 768)\n",
              "    (LayerNorm): LayerNorm((768,), eps=1e-12, elementwise_affine=True)\n",
              "    (dropout): Dropout(p=0.1, inplace=False)\n",
              "  )\n",
              "  (encoder): BertEncoder(\n",
              "    (layer): ModuleList(\n",
              "      (0): BertLayer(\n",
              "        (attention): BertAttention(\n",
              "          (self): BertSelfAttention(\n",
              "            (query): Linear(in_features=768, out_features=768, bias=True)\n",
              "            (key): Linear(in_features=768, out_features=768, bias=True)\n",
              "            (value): Linear(in_features=768, out_features=768, bias=True)\n",
              "            (dropout): Dropout(p=0.1, inplace=False)\n",
              "          )\n",
              "          (output): BertSelfOutput(\n",
              "            (dense): Linear(in_features=768, out_features=768, bias=True)\n",
              "            (LayerNorm): LayerNorm((768,), eps=1e-12, elementwise_affine=True)\n",
              "            (dropout): Dropout(p=0.1, inplace=False)\n",
              "          )\n",
              "        )\n",
              "        (intermediate): BertIntermediate(\n",
              "          (dense): Linear(in_features=768, out_features=3072, bias=True)\n",
              "        )\n",
              "        (output): BertOutput(\n",
              "          (dense): Linear(in_features=3072, out_features=768, bias=True)\n",
              "          (LayerNorm): LayerNorm((768,), eps=1e-12, elementwise_affine=True)\n",
              "          (dropout): Dropout(p=0.1, inplace=False)\n",
              "        )\n",
              "      )\n",
              "      (1): BertLayer(\n",
              "        (attention): BertAttention(\n",
              "          (self): BertSelfAttention(\n",
              "            (query): Linear(in_features=768, out_features=768, bias=True)\n",
              "            (key): Linear(in_features=768, out_features=768, bias=True)\n",
              "            (value): Linear(in_features=768, out_features=768, bias=True)\n",
              "            (dropout): Dropout(p=0.1, inplace=False)\n",
              "          )\n",
              "          (output): BertSelfOutput(\n",
              "            (dense): Linear(in_features=768, out_features=768, bias=True)\n",
              "            (LayerNorm): LayerNorm((768,), eps=1e-12, elementwise_affine=True)\n",
              "            (dropout): Dropout(p=0.1, inplace=False)\n",
              "          )\n",
              "        )\n",
              "        (intermediate): BertIntermediate(\n",
              "          (dense): Linear(in_features=768, out_features=3072, bias=True)\n",
              "        )\n",
              "        (output): BertOutput(\n",
              "          (dense): Linear(in_features=3072, out_features=768, bias=True)\n",
              "          (LayerNorm): LayerNorm((768,), eps=1e-12, elementwise_affine=True)\n",
              "          (dropout): Dropout(p=0.1, inplace=False)\n",
              "        )\n",
              "      )\n",
              "      (2): BertLayer(\n",
              "        (attention): BertAttention(\n",
              "          (self): BertSelfAttention(\n",
              "            (query): Linear(in_features=768, out_features=768, bias=True)\n",
              "            (key): Linear(in_features=768, out_features=768, bias=True)\n",
              "            (value): Linear(in_features=768, out_features=768, bias=True)\n",
              "            (dropout): Dropout(p=0.1, inplace=False)\n",
              "          )\n",
              "          (output): BertSelfOutput(\n",
              "            (dense): Linear(in_features=768, out_features=768, bias=True)\n",
              "            (LayerNorm): LayerNorm((768,), eps=1e-12, elementwise_affine=True)\n",
              "            (dropout): Dropout(p=0.1, inplace=False)\n",
              "          )\n",
              "        )\n",
              "        (intermediate): BertIntermediate(\n",
              "          (dense): Linear(in_features=768, out_features=3072, bias=True)\n",
              "        )\n",
              "        (output): BertOutput(\n",
              "          (dense): Linear(in_features=3072, out_features=768, bias=True)\n",
              "          (LayerNorm): LayerNorm((768,), eps=1e-12, elementwise_affine=True)\n",
              "          (dropout): Dropout(p=0.1, inplace=False)\n",
              "        )\n",
              "      )\n",
              "      (3): BertLayer(\n",
              "        (attention): BertAttention(\n",
              "          (self): BertSelfAttention(\n",
              "            (query): Linear(in_features=768, out_features=768, bias=True)\n",
              "            (key): Linear(in_features=768, out_features=768, bias=True)\n",
              "            (value): Linear(in_features=768, out_features=768, bias=True)\n",
              "            (dropout): Dropout(p=0.1, inplace=False)\n",
              "          )\n",
              "          (output): BertSelfOutput(\n",
              "            (dense): Linear(in_features=768, out_features=768, bias=True)\n",
              "            (LayerNorm): LayerNorm((768,), eps=1e-12, elementwise_affine=True)\n",
              "            (dropout): Dropout(p=0.1, inplace=False)\n",
              "          )\n",
              "        )\n",
              "        (intermediate): BertIntermediate(\n",
              "          (dense): Linear(in_features=768, out_features=3072, bias=True)\n",
              "        )\n",
              "        (output): BertOutput(\n",
              "          (dense): Linear(in_features=3072, out_features=768, bias=True)\n",
              "          (LayerNorm): LayerNorm((768,), eps=1e-12, elementwise_affine=True)\n",
              "          (dropout): Dropout(p=0.1, inplace=False)\n",
              "        )\n",
              "      )\n",
              "      (4): BertLayer(\n",
              "        (attention): BertAttention(\n",
              "          (self): BertSelfAttention(\n",
              "            (query): Linear(in_features=768, out_features=768, bias=True)\n",
              "            (key): Linear(in_features=768, out_features=768, bias=True)\n",
              "            (value): Linear(in_features=768, out_features=768, bias=True)\n",
              "            (dropout): Dropout(p=0.1, inplace=False)\n",
              "          )\n",
              "          (output): BertSelfOutput(\n",
              "            (dense): Linear(in_features=768, out_features=768, bias=True)\n",
              "            (LayerNorm): LayerNorm((768,), eps=1e-12, elementwise_affine=True)\n",
              "            (dropout): Dropout(p=0.1, inplace=False)\n",
              "          )\n",
              "        )\n",
              "        (intermediate): BertIntermediate(\n",
              "          (dense): Linear(in_features=768, out_features=3072, bias=True)\n",
              "        )\n",
              "        (output): BertOutput(\n",
              "          (dense): Linear(in_features=3072, out_features=768, bias=True)\n",
              "          (LayerNorm): LayerNorm((768,), eps=1e-12, elementwise_affine=True)\n",
              "          (dropout): Dropout(p=0.1, inplace=False)\n",
              "        )\n",
              "      )\n",
              "      (5): BertLayer(\n",
              "        (attention): BertAttention(\n",
              "          (self): BertSelfAttention(\n",
              "            (query): Linear(in_features=768, out_features=768, bias=True)\n",
              "            (key): Linear(in_features=768, out_features=768, bias=True)\n",
              "            (value): Linear(in_features=768, out_features=768, bias=True)\n",
              "            (dropout): Dropout(p=0.1, inplace=False)\n",
              "          )\n",
              "          (output): BertSelfOutput(\n",
              "            (dense): Linear(in_features=768, out_features=768, bias=True)\n",
              "            (LayerNorm): LayerNorm((768,), eps=1e-12, elementwise_affine=True)\n",
              "            (dropout): Dropout(p=0.1, inplace=False)\n",
              "          )\n",
              "        )\n",
              "        (intermediate): BertIntermediate(\n",
              "          (dense): Linear(in_features=768, out_features=3072, bias=True)\n",
              "        )\n",
              "        (output): BertOutput(\n",
              "          (dense): Linear(in_features=3072, out_features=768, bias=True)\n",
              "          (LayerNorm): LayerNorm((768,), eps=1e-12, elementwise_affine=True)\n",
              "          (dropout): Dropout(p=0.1, inplace=False)\n",
              "        )\n",
              "      )\n",
              "      (6): BertLayer(\n",
              "        (attention): BertAttention(\n",
              "          (self): BertSelfAttention(\n",
              "            (query): Linear(in_features=768, out_features=768, bias=True)\n",
              "            (key): Linear(in_features=768, out_features=768, bias=True)\n",
              "            (value): Linear(in_features=768, out_features=768, bias=True)\n",
              "            (dropout): Dropout(p=0.1, inplace=False)\n",
              "          )\n",
              "          (output): BertSelfOutput(\n",
              "            (dense): Linear(in_features=768, out_features=768, bias=True)\n",
              "            (LayerNorm): LayerNorm((768,), eps=1e-12, elementwise_affine=True)\n",
              "            (dropout): Dropout(p=0.1, inplace=False)\n",
              "          )\n",
              "        )\n",
              "        (intermediate): BertIntermediate(\n",
              "          (dense): Linear(in_features=768, out_features=3072, bias=True)\n",
              "        )\n",
              "        (output): BertOutput(\n",
              "          (dense): Linear(in_features=3072, out_features=768, bias=True)\n",
              "          (LayerNorm): LayerNorm((768,), eps=1e-12, elementwise_affine=True)\n",
              "          (dropout): Dropout(p=0.1, inplace=False)\n",
              "        )\n",
              "      )\n",
              "      (7): BertLayer(\n",
              "        (attention): BertAttention(\n",
              "          (self): BertSelfAttention(\n",
              "            (query): Linear(in_features=768, out_features=768, bias=True)\n",
              "            (key): Linear(in_features=768, out_features=768, bias=True)\n",
              "            (value): Linear(in_features=768, out_features=768, bias=True)\n",
              "            (dropout): Dropout(p=0.1, inplace=False)\n",
              "          )\n",
              "          (output): BertSelfOutput(\n",
              "            (dense): Linear(in_features=768, out_features=768, bias=True)\n",
              "            (LayerNorm): LayerNorm((768,), eps=1e-12, elementwise_affine=True)\n",
              "            (dropout): Dropout(p=0.1, inplace=False)\n",
              "          )\n",
              "        )\n",
              "        (intermediate): BertIntermediate(\n",
              "          (dense): Linear(in_features=768, out_features=3072, bias=True)\n",
              "        )\n",
              "        (output): BertOutput(\n",
              "          (dense): Linear(in_features=3072, out_features=768, bias=True)\n",
              "          (LayerNorm): LayerNorm((768,), eps=1e-12, elementwise_affine=True)\n",
              "          (dropout): Dropout(p=0.1, inplace=False)\n",
              "        )\n",
              "      )\n",
              "      (8): BertLayer(\n",
              "        (attention): BertAttention(\n",
              "          (self): BertSelfAttention(\n",
              "            (query): Linear(in_features=768, out_features=768, bias=True)\n",
              "            (key): Linear(in_features=768, out_features=768, bias=True)\n",
              "            (value): Linear(in_features=768, out_features=768, bias=True)\n",
              "            (dropout): Dropout(p=0.1, inplace=False)\n",
              "          )\n",
              "          (output): BertSelfOutput(\n",
              "            (dense): Linear(in_features=768, out_features=768, bias=True)\n",
              "            (LayerNorm): LayerNorm((768,), eps=1e-12, elementwise_affine=True)\n",
              "            (dropout): Dropout(p=0.1, inplace=False)\n",
              "          )\n",
              "        )\n",
              "        (intermediate): BertIntermediate(\n",
              "          (dense): Linear(in_features=768, out_features=3072, bias=True)\n",
              "        )\n",
              "        (output): BertOutput(\n",
              "          (dense): Linear(in_features=3072, out_features=768, bias=True)\n",
              "          (LayerNorm): LayerNorm((768,), eps=1e-12, elementwise_affine=True)\n",
              "          (dropout): Dropout(p=0.1, inplace=False)\n",
              "        )\n",
              "      )\n",
              "      (9): BertLayer(\n",
              "        (attention): BertAttention(\n",
              "          (self): BertSelfAttention(\n",
              "            (query): Linear(in_features=768, out_features=768, bias=True)\n",
              "            (key): Linear(in_features=768, out_features=768, bias=True)\n",
              "            (value): Linear(in_features=768, out_features=768, bias=True)\n",
              "            (dropout): Dropout(p=0.1, inplace=False)\n",
              "          )\n",
              "          (output): BertSelfOutput(\n",
              "            (dense): Linear(in_features=768, out_features=768, bias=True)\n",
              "            (LayerNorm): LayerNorm((768,), eps=1e-12, elementwise_affine=True)\n",
              "            (dropout): Dropout(p=0.1, inplace=False)\n",
              "          )\n",
              "        )\n",
              "        (intermediate): BertIntermediate(\n",
              "          (dense): Linear(in_features=768, out_features=3072, bias=True)\n",
              "        )\n",
              "        (output): BertOutput(\n",
              "          (dense): Linear(in_features=3072, out_features=768, bias=True)\n",
              "          (LayerNorm): LayerNorm((768,), eps=1e-12, elementwise_affine=True)\n",
              "          (dropout): Dropout(p=0.1, inplace=False)\n",
              "        )\n",
              "      )\n",
              "      (10): BertLayer(\n",
              "        (attention): BertAttention(\n",
              "          (self): BertSelfAttention(\n",
              "            (query): Linear(in_features=768, out_features=768, bias=True)\n",
              "            (key): Linear(in_features=768, out_features=768, bias=True)\n",
              "            (value): Linear(in_features=768, out_features=768, bias=True)\n",
              "            (dropout): Dropout(p=0.1, inplace=False)\n",
              "          )\n",
              "          (output): BertSelfOutput(\n",
              "            (dense): Linear(in_features=768, out_features=768, bias=True)\n",
              "            (LayerNorm): LayerNorm((768,), eps=1e-12, elementwise_affine=True)\n",
              "            (dropout): Dropout(p=0.1, inplace=False)\n",
              "          )\n",
              "        )\n",
              "        (intermediate): BertIntermediate(\n",
              "          (dense): Linear(in_features=768, out_features=3072, bias=True)\n",
              "        )\n",
              "        (output): BertOutput(\n",
              "          (dense): Linear(in_features=3072, out_features=768, bias=True)\n",
              "          (LayerNorm): LayerNorm((768,), eps=1e-12, elementwise_affine=True)\n",
              "          (dropout): Dropout(p=0.1, inplace=False)\n",
              "        )\n",
              "      )\n",
              "      (11): BertLayer(\n",
              "        (attention): BertAttention(\n",
              "          (self): BertSelfAttention(\n",
              "            (query): Linear(in_features=768, out_features=768, bias=True)\n",
              "            (key): Linear(in_features=768, out_features=768, bias=True)\n",
              "            (value): Linear(in_features=768, out_features=768, bias=True)\n",
              "            (dropout): Dropout(p=0.1, inplace=False)\n",
              "          )\n",
              "          (output): BertSelfOutput(\n",
              "            (dense): Linear(in_features=768, out_features=768, bias=True)\n",
              "            (LayerNorm): LayerNorm((768,), eps=1e-12, elementwise_affine=True)\n",
              "            (dropout): Dropout(p=0.1, inplace=False)\n",
              "          )\n",
              "        )\n",
              "        (intermediate): BertIntermediate(\n",
              "          (dense): Linear(in_features=768, out_features=3072, bias=True)\n",
              "        )\n",
              "        (output): BertOutput(\n",
              "          (dense): Linear(in_features=3072, out_features=768, bias=True)\n",
              "          (LayerNorm): LayerNorm((768,), eps=1e-12, elementwise_affine=True)\n",
              "          (dropout): Dropout(p=0.1, inplace=False)\n",
              "        )\n",
              "      )\n",
              "    )\n",
              "  )\n",
              "  (pooler): BertPooler(\n",
              "    (dense): Linear(in_features=768, out_features=768, bias=True)\n",
              "    (activation): Tanh()\n",
              "  )\n",
              ")"
            ]
          },
          "metadata": {},
          "execution_count": 92
        }
      ],
      "source": [
        "# 입력 데이터와 BERT 모델을 \"GPU\" 장치로 로드함\n",
        "use_cuda = torch.cuda.is_available()\n",
        "device = torch.device('cuda' if use_cuda else 'cpu')\n",
        "inputs = inputs.to(device)\n",
        "model_bert.to(device)"
      ]
    },
    {
      "cell_type": "code",
      "execution_count": 93,
      "metadata": {
        "id": "zjua8EtijyJs",
        "colab": {
          "base_uri": "https://localhost:8080/"
        },
        "outputId": "c7ef9466-a0f9-4dc5-c63c-005584584bdf"
      },
      "outputs": [
        {
          "output_type": "stream",
          "name": "stdout",
          "text": [
            "Coversation 0 -> '[CLS] what do you do when you have free time? [SEP] I code. code frees my minds, body and soul. [SEP] [PAD] [PAD]'\n",
            "Coversation 1 -> '[CLS] ( what a nerd... ) coding? [SEP] Yes. coding is the best thing to do in the free time. [SEP]'\n"
          ]
        }
      ],
      "source": [
        "# decoding\n",
        "for i in range(len(inputs['input_ids'])):\n",
        "    print(f\"Coversation {i} -> '{tokenizer_bert.decode(inputs['input_ids'][i])}'\")"
      ]
    },
    {
      "cell_type": "code",
      "execution_count": 94,
      "metadata": {
        "id": "ggtYUkbejzBU",
        "colab": {
          "base_uri": "https://localhost:8080/"
        },
        "outputId": "f5364b1a-5251-4b63-c970-11dd37bbd042"
      },
      "outputs": [
        {
          "output_type": "execute_result",
          "data": {
            "text/plain": [
              "[3463]"
            ]
          },
          "metadata": {},
          "execution_count": 94
        }
      ],
      "source": [
        "# \"code\" 단어의 token id(각 단어에게 고유하게 주어진 id)를 출력\n",
        "tokenizer_bert.encode('code', add_special_tokens=False)"
      ]
    },
    {
      "cell_type": "code",
      "execution_count": 95,
      "metadata": {
        "id": "XZUxJJxkj0NG",
        "colab": {
          "base_uri": "https://localhost:8080/"
        },
        "outputId": "9ba9e1af-f50f-4143-9e0a-8e348255788d"
      },
      "outputs": [
        {
          "output_type": "stream",
          "name": "stdout",
          "text": [
            "cpu\n"
          ]
        }
      ],
      "source": [
        "if torch.cuda.is_available():\n",
        "    device = torch.device(\"cuda\")\n",
        "else:\n",
        "    device = torch.device(\"cpu\")\n",
        "print(device)"
      ]
    },
    {
      "cell_type": "code",
      "execution_count": 96,
      "metadata": {
        "id": "_FGm_9rtj1xw"
      },
      "outputs": [],
      "source": [
        "# 입력 데이터를 BERT 모델에 넣어 출력값을 가져옴\n",
        "outputs = model_bert(\n",
        "    **inputs, \n",
        "    output_hidden_states=True\n",
        "    )"
      ]
    },
    {
      "cell_type": "code",
      "execution_count": 97,
      "metadata": {
        "id": "s9jsHuLjj3Sy",
        "colab": {
          "base_uri": "https://localhost:8080/"
        },
        "outputId": "d37e2d2b-b8b8-4e2e-cab5-8834a1eda918"
      },
      "outputs": [
        {
          "output_type": "execute_result",
          "data": {
            "text/plain": [
              "odict_keys(['last_hidden_state', 'pooler_output', 'hidden_states'])"
            ]
          },
          "metadata": {},
          "execution_count": 97
        }
      ],
      "source": [
        "outputs.keys()"
      ]
    },
    {
      "cell_type": "code",
      "execution_count": 98,
      "metadata": {
        "id": "I0nB31XAj4M_",
        "colab": {
          "base_uri": "https://localhost:8080/"
        },
        "outputId": "ec854fb4-3b89-4486-eab8-2db3b0748522"
      },
      "outputs": [
        {
          "output_type": "stream",
          "name": "stdout",
          "text": [
            "# layers : 13\n",
            "tensor shape in each layer : torch.Size([2, 28, 768])\n"
          ]
        }
      ],
      "source": [
        "hidden_states = outputs['hidden_states']\n",
        "print(f\"# layers : {len(hidden_states)}\")\n",
        "print(f\"tensor shape in each layer : {hidden_states[-1].shape}\")"
      ]
    },
    {
      "cell_type": "markdown",
      "metadata": {
        "id": "mfy3I4FXj6L_"
      },
      "source": [
        "###  Q1. 1번째 sequence (문장)에서 \"code\"라는 단어의 인덱스를 모두 반환하라.\n",
        "- \"code\" 단어는 총 2개 존재 "
      ]
    },
    {
      "cell_type": "code",
      "execution_count": 99,
      "metadata": {
        "id": "_tYG4o_ho1QY",
        "colab": {
          "base_uri": "https://localhost:8080/"
        },
        "outputId": "1cbf140e-7e0c-475b-a8be-ac759ba0b09c"
      },
      "outputs": [
        {
          "output_type": "stream",
          "name": "stdout",
          "text": [
            "[13, 15]\n"
          ]
        }
      ],
      "source": [
        "def get_index(seq, word):\n",
        "  word_code = tokenizer_bert.encode(word, add_special_tokens=False)\n",
        "  index_temp = np.nonzero(seq == word_code[0]).tolist()\n",
        "  index = []\n",
        "  for i in index_temp:\n",
        "    index.append(i[0])\n",
        "  return index\n",
        "\n",
        "# input\n",
        "# seq1: 1번째 sequence\n",
        "# token: 단어\n",
        "seq1 = inputs['input_ids'][0]\n",
        "token = \"code\"\n",
        "\n",
        "# output\n",
        "token_index = get_index(seq1, token)\n",
        "print(token_index)"
      ]
    },
    {
      "cell_type": "markdown",
      "metadata": {
        "id": "xopkXDS2m6uA"
      },
      "source": [
        "### Q2. 1번째 sequence의 1번째 \"code\" 토큰의 embedding을 여러가지 방식으로 구하고자 한다. BERT hidden state를 다음의 방식으로 인덱싱해 embedding을 구하라\n",
        "- 1 layer\n",
        "- last layer\n",
        "- sum all 12 layers\n",
        "- sum last 4 layers\n",
        "- concat last 4 layers\n",
        "- average last 4 layers"
      ]
    },
    {
      "cell_type": "code",
      "execution_count": 100,
      "metadata": {
        "id": "to7IOGNwkmUS",
        "colab": {
          "base_uri": "https://localhost:8080/"
        },
        "outputId": "3413a5df-4bff-4434-a95a-6ff57079cd18"
      },
      "outputs": [
        {
          "output_type": "stream",
          "name": "stdout",
          "text": [
            "torch.Size([768])\n",
            "torch.Size([768])\n",
            "torch.Size([768])\n",
            "torch.Size([768])\n",
            "torch.Size([3072])\n",
            "torch.Size([768])\n"
          ]
        }
      ],
      "source": [
        "# 1 layer\n",
        "first_layer_emb = hidden_states[1][0,token_index[0]]    # hidden_states[layer][문장][token]\n",
        "print(first_layer_emb.shape)\n",
        "\n",
        "# last layer\n",
        "last_layer_emb = hidden_states[-1][0,token_index[0]]\n",
        "print(last_layer_emb.shape)\n",
        "\n",
        "# sum all 12 layers\n",
        "sum_all_layer_emb = hidden_states[1][0,token_index[0]]\n",
        "for i in range(2,len(hidden_states)):\n",
        "  sum_all_layer_emb += hidden_states[i][0,token_index[0]]\n",
        "print(sum_all_layer_emb.shape)\n",
        "\n",
        "# sum last 4 layers\n",
        "sum_last4_layer_emb = hidden_states[-4][0,token_index[0]]\n",
        "for i in range(-3,0):\n",
        "  sum_last4_layer_emb += hidden_states[i][0,token_index[0]]\n",
        "print(sum_last4_layer_emb.shape)\n",
        "\n",
        "# concat last 4 layers\n",
        "concat_last4_layer_emb = hidden_states[-4][0,token_index[0]]\n",
        "for i in range(-3,0):\n",
        "  concat_last4_layer_emb = torch.cat([concat_last4_layer_emb,hidden_states[i][0,token_index[0]]],dim=0)\n",
        "print(concat_last4_layer_emb.shape)\n",
        "\n",
        "# mean last 4 layers\n",
        "mean_last4_layer_emb = sum_last4_layer_emb/4\n",
        "print(mean_last4_layer_emb.shape)"
      ]
    },
    {
      "cell_type": "markdown",
      "metadata": {
        "id": "i0-C0J6o1HHl"
      },
      "source": [
        "## Challenge"
      ]
    },
    {
      "cell_type": "markdown",
      "metadata": {
        "id": "H3aI-M5KubYl"
      },
      "source": [
        "### Q3. `sum_last_four_layer` 방식으로 1번째 sequence의 2개의 \"code\" 토큰 사이의 코사인 유사도를 계산하라"
      ]
    },
    {
      "cell_type": "code",
      "execution_count": 101,
      "metadata": {
        "id": "twWm2hrrp3qG",
        "colab": {
          "base_uri": "https://localhost:8080/"
        },
        "outputId": "ad6686b9-0d34-4b36-c635-55846c3d9dd3"
      },
      "outputs": [
        {
          "output_type": "stream",
          "name": "stdout",
          "text": [
            "tensor(0.8477)\n"
          ]
        }
      ],
      "source": [
        "def cosine_similarity_manual(x, y, small_number=1e-8):\n",
        "  result = torch.dot(x,y)/(torch.norm(x)*torch.norm(y)+small_number)\n",
        "  return result.detach()\n",
        "\n",
        "# input\n",
        "# x: 1번째 sequence의 1번째 \"code\"의 sum_last_four_layer 방식 embedding\n",
        "# y: 1번째 sequence의 2번째 \"code\"의 sum_last_four_layer 방식 embedding\n",
        "\n",
        "x = hidden_states[-4][0,token_index[0]]\n",
        "for i in range(-3,0):\n",
        "  x += hidden_states[i][0,token_index[0]]\n",
        "\n",
        "y = hidden_states[-4][0,token_index[1]]\n",
        "for i in range(-3,0):\n",
        "  y += hidden_states[i][0,token_index[1]]\n",
        "\n",
        "# output\n",
        "score = cosine_similarity_manual(x, y)\n",
        "print(score)"
      ]
    },
    {
      "cell_type": "markdown",
      "metadata": {
        "id": "Wfc_1t2Hw8kB"
      },
      "source": [
        "### Q4. 2번째 sequence에서 \"coding\"이라는 토큰의 위치를 반환하라"
      ]
    },
    {
      "cell_type": "code",
      "execution_count": 102,
      "metadata": {
        "id": "B_OrrpEgw9pX",
        "colab": {
          "base_uri": "https://localhost:8080/"
        },
        "outputId": "1f2b638a-02fc-4ce8-8c8b-258708aa281f"
      },
      "outputs": [
        {
          "output_type": "stream",
          "name": "stdout",
          "text": [
            "[10, 15]\n"
          ]
        }
      ],
      "source": [
        "# Q1과 동일한 문제 \n",
        "\n",
        "# input\n",
        "# seq1: 2번째 sequence\n",
        "# token: 단어\n",
        "seq2 = inputs['input_ids'][1]\n",
        "token = \"coding\"\n",
        "\n",
        "# output\n",
        "# Q1에서 구현한 함수 사용\n",
        "token_index = get_index(seq2, token)\n",
        "print(token_index)"
      ]
    },
    {
      "cell_type": "markdown",
      "metadata": {
        "id": "c11W2Ht-xIwI"
      },
      "source": [
        "### Q5. `concat_last4_layer_emb` 방식으로 2번째 sequence의 2개의 \"coding\" 토큰 사이의 코사인 유사도를 계산하라"
      ]
    },
    {
      "cell_type": "code",
      "execution_count": 103,
      "metadata": {
        "id": "MXr1jtMOxKie",
        "colab": {
          "base_uri": "https://localhost:8080/"
        },
        "outputId": "974f1208-d84b-4824-9035-a352e51ad5c8"
      },
      "outputs": [
        {
          "output_type": "stream",
          "name": "stdout",
          "text": [
            "tensor(0.8732)\n"
          ]
        }
      ],
      "source": [
        "# Q3과 동일한 문제\n",
        "\n",
        "# input\n",
        "# x: 2번째 sequence의 1번째 \"coding\"의 concat_last4_layer_emb\n",
        "# y: 2번째 sequence의 2번째 \"coding\"의 concat_last4_layer_emb\n",
        "x = hidden_states[-4][1,token_index[0]]\n",
        "for i in range(-3,0):\n",
        "  x += hidden_states[i][1,token_index[0]]\n",
        "\n",
        "y = hidden_states[-4][1,token_index[1]]\n",
        "for i in range(-3,0):\n",
        "  y += hidden_states[i][1,token_index[1]]\n",
        "\n",
        "# output\n",
        "# Q3에서 구현한 함수 사용\n",
        "score = cosine_similarity_manual(x, y)\n",
        "print(score)"
      ]
    },
    {
      "cell_type": "markdown",
      "metadata": {
        "id": "doBSxlvsxlZp"
      },
      "source": [
        "### Q6. 2번째 sequence에서 랜덤하게 토큰 하나를 뽑아보자. 그 랜덤 토큰과 2번째 sequence의 2번째 \"coding\" 토큰의 코사인 유사도를 계산해보자"
      ]
    },
    {
      "cell_type": "code",
      "execution_count": 104,
      "metadata": {
        "id": "PajBEOs5xnOa",
        "colab": {
          "base_uri": "https://localhost:8080/"
        },
        "outputId": "559e8a71-19af-4152-e024-4dfb69693177"
      },
      "outputs": [
        {
          "output_type": "stream",
          "name": "stdout",
          "text": [
            "tensor(0.4747)\n"
          ]
        }
      ],
      "source": [
        "# input\n",
        "# random_idx: random 모듈 사용하여 뽑은 랜덤 토큰의 인덱스\n",
        "# random_word: random_idx에 해당하는 단어\n",
        "# x: 2번째 sequence의 2번째 \"coding\" 토큰의 concat_last4_layer_emb\n",
        "# y: 랜덤 토큰의 concat_last4_layer_emb\n",
        "\n",
        "from random import randint\n",
        "\n",
        "random_idx = randint(0,27)\n",
        "# random_word = None\n",
        "\n",
        "x = hidden_states[-4][1,token_index[1]]\n",
        "for i in range(-3,0):\n",
        "  x = torch.cat([x,hidden_states[i][1,token_index[1]]],dim=0)\n",
        "\n",
        "y = hidden_states[-4][1,random_idx]\n",
        "for i in range(-3,0):\n",
        "  y = torch.cat([y,hidden_states[i][1,random_idx]],dim=0)\n",
        "\n",
        "# output\n",
        "# Q3에서 구현한 함수 사용\n",
        "score = cosine_similarity_manual(x, y)\n",
        "print(score)"
      ]
    },
    {
      "cell_type": "markdown",
      "metadata": {
        "id": "hX9_cFhm1HHm"
      },
      "source": [
        "## Advanced"
      ]
    },
    {
      "cell_type": "markdown",
      "metadata": {
        "id": "ub-hubXwyw9l"
      },
      "source": [
        "### Q7. 1번째 sequence와 2번째 sequence의 문장 유사도를 구해보자. 문장의 엠베딩은 마지막 레이어의 첫번째 토큰 ('[CLS]')으로 생성한다."
      ]
    },
    {
      "cell_type": "code",
      "execution_count": 105,
      "metadata": {
        "id": "JpvPDM_Oyx7I",
        "colab": {
          "base_uri": "https://localhost:8080/"
        },
        "outputId": "41669287-5257-4ae4-afe3-518423426b67"
      },
      "outputs": [
        {
          "output_type": "stream",
          "name": "stdout",
          "text": [
            "tensor(0.8130)\n"
          ]
        }
      ],
      "source": [
        "# input\n",
        "# x: 1번째 sequence의 embedding\n",
        "# y: 2번째 sequence의 embedding\n",
        "x = hidden_states[-1][0,0]\n",
        "y = hidden_states[-1][1,0]\n",
        "\n",
        "# output\n",
        "# Q3에서 구현한 함수 사용\n",
        "score =  cosine_similarity_manual(x, y)\n",
        "print(score)"
      ]
    }
  ],
  "metadata": {
    "colab": {
      "collapsed_sections": [],
      "name": "유형진 - Week2_1_assignment_solved.ipynb",
      "provenance": []
    },
    "kernelspec": {
      "display_name": "torch",
      "language": "python",
      "name": "torch"
    },
    "language_info": {
      "codemirror_mode": {
        "name": "ipython",
        "version": 3
      },
      "file_extension": ".py",
      "mimetype": "text/x-python",
      "name": "python",
      "nbconvert_exporter": "python",
      "pygments_lexer": "ipython3",
      "version": "3.8.11"
    }
  },
  "nbformat": 4,
  "nbformat_minor": 0
}