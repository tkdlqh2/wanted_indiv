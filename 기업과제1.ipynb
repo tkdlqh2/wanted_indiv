{
 "cells": [
  {
   "cell_type": "code",
   "execution_count": 3,
   "id": "fe9d3e2a",
   "metadata": {},
   "outputs": [
    {
     "name": "stdout",
     "output_type": "stream",
     "text": [
      "YES\n",
      "#pos=0, pattern=aaa\n",
      "#pos=1, pattern=aaa\n",
      "YES\n",
      "#pos=0, pattern=aaaabb\n",
      "YES\n",
      "#pos=6, pattern=aabbcc\n",
      "YES\n",
      "#pos=3, pattern=abb\n",
      "#pos=7, pattern=abb\n",
      "YES\n",
      "#pos=9, pattern=bcc\n",
      "YES\n",
      "#pos=8, pattern=bbcc\n",
      "YES\n",
      "#pos=6, pattern=aabbccdd\n",
      "YES\n",
      "#pos=1, pattern=aaabb\n",
      "NO\n"
     ]
    }
   ],
   "source": [
    "import sys\n",
    "input = sys.stdin.readline\n",
    "\n",
    "def make_pi(word):\n",
    "  word_length = len(word)\n",
    "  pi_list=[0]*word_length\n",
    "  for i in range(1,word_length+1):\n",
    "    word_part = word[:i]\n",
    "    for j in range(1,i):\n",
    "      if word_part[:j] == word_part[i-j:]:pi_list[i-1]=j  \n",
    "  return pi_list\n",
    "\n",
    "def find_splice(long,short):\n",
    "  pi_list = make_pi(short)\n",
    "  i=0\n",
    "  j=0\n",
    "  check = 0\n",
    "  answer_list = []\n",
    "  while i<len(long):\n",
    "    while(j>0 and long[i] != short[j]):\n",
    "      j = pi_list[j-1]\n",
    "\n",
    "    if (long[i] == short[j]):\n",
    "      if j == len(pi_list)-1:\n",
    "        check=1    \n",
    "        answer_str = \"#pos=\"+str(i-j)+\", pattern=\"+short\n",
    "        answer_list.append(answer_str)\n",
    "        i=i-j\n",
    "        j=0\n",
    "      else:j+=1\n",
    "    i+=1\n",
    "  \n",
    "  if check:\n",
    "    print(\"YES\")\n",
    "    for k in answer_list:\n",
    "      print(k)\n",
    "  else:print(\"NO\")\n",
    "\n",
    "  return 0\n",
    "\n",
    "num_s = int(input())\n",
    "# num_s = 9\n",
    "s = []\n",
    "for _ in range(num_s):\n",
    "  s.append(input().strip()) \n",
    "\n",
    "s=[\"aaa\",\"aaaabb\",\"aabbcc\",\"abb\",\"bcc\",\"bbcc\",\"aabbccdd\",\"aaabb\",\"cccd\"]\n",
    "\n",
    "# num_q = 1\n",
    "num_q = int(input())\n",
    "for _ in range(num_q):\n",
    "  sentence = input().strip()\n",
    "#   sentence = \"aaaabbaabbccdd\"\n",
    "  for splice in s:\n",
    "    find_splice(sentence,splice)"
   ]
  },
  {
   "cell_type": "code",
   "execution_count": null,
   "id": "f424210a",
   "metadata": {},
   "outputs": [],
   "source": []
  }
 ],
 "metadata": {
  "kernelspec": {
   "display_name": "Python 3",
   "language": "python",
   "name": "python3"
  },
  "language_info": {
   "codemirror_mode": {
    "name": "ipython",
    "version": 3
   },
   "file_extension": ".py",
   "mimetype": "text/x-python",
   "name": "python",
   "nbconvert_exporter": "python",
   "pygments_lexer": "ipython3",
   "version": "3.9.1"
  }
 },
 "nbformat": 4,
 "nbformat_minor": 5
}
